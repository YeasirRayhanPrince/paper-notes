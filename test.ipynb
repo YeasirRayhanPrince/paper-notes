{
 "cells": [
  {
   "cell_type": "code",
   "execution_count": null,
   "metadata": {},
   "outputs": [],
   "source": [
    "🔎 Tags         Cache-conscious Index   In-memory Index\n",
    "🧟 Authors      Kihong Kim, Sang k. Cha, Keunjoo Kwon      \n",
    "🚏 Venue        SIGMOD   \n",
    "📅 Year         2001   \n",
    "🕦 Created      March 15, 2022  \n",
    "⏳ Status       Not Complete  \n",
    "🔗 Paper        https://dl.acm.org/doi/abs/10.1145/376284.375679 "
   ]
  }
 ],
 "metadata": {
  "language_info": {
   "name": "plaintext"
  },
  "orig_nbformat": 4
 },
 "nbformat": 4,
 "nbformat_minor": 2
}
