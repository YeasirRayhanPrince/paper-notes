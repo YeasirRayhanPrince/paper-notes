{
 "cells": [
  {
   "cell_type": "markdown",
   "metadata": {},
   "source": [
    "# Optimizing multidimensional index trees for main memory access"
   ]
  },
  {
   "cell_type": "markdown",
   "metadata": {},
   "source": [
    "🔎    **Tags**                 <font style = \"background-color:#e0b0ff;border-radius:5px\"> Cache-conscious Index </font>    <font style=\"background-color:#e0b0ff;border-radius:5px\"> In-memory Index </font>   \n",
    "🧟    **Authors**              Kihong Kim, Sang k. Cha, Keunjoo Kwon      \n",
    "🚏    **Venue**               SIGMOD   \n",
    "📅    **Year**                 2001   \n",
    "🕦    **Created**              March 15, 2022  \n",
    "⏳    **Status**                Not Complete  \n",
    "🔗    **Paper**                https://dl.acm.org/doi/abs/10.1145/376284.375679  "
   ]
  },
  {
   "cell_type": "markdown",
   "metadata": {},
   "source": [
    "# What?\n",
    "They propose **CRTree**: a cache-conscious R Tree, which utilizes **QRMBR**: a compression scheme (proposed by them) which represents the MBR of a child node with respect to its parent node (this is called RMBR) and quantizes the resultant RMBR using a fixed number of bits. \n",
    "\n",
    "# Why?\n",
    "For in-memory indexes memory access is the new bottleneck because of the gap between the CPU and DRAM speed. Each memory (DRAM) access costs 10x processor cycles, whereas each cache (SRAM) access costs 1/2 processor cycles.\n",
    "\n",
    "# Gist\n",
    "Pack as many nodes as you can in cache to reduce the number of memory accesses, i.e., cache miss\n",
    "\n",
    "# Takeaways\n",
    "* To improve the cache behavior of an index, reduce the height of thre tree, i.e., increase the fan out of thre tree. (not applicable for R-tree since the keys of a R-tree node is much larger: eliminating only chlid pointers will not be able to free up enough space to pack more entries in a node)\n",
    "    * eliminate child pointers from a node\n",
    "    * set node size = n * cache block size  \n",
    "\n",
    "\n",
    "# Details\n",
    "Desiderata for MBR compression:\n",
    "\n",
    "- Overlap check without decompression: To check the overlap between the query rectangle and a MBR, DO NOT DECOMPRESS the compressed MBR. Rather COMPRESS the query rectangle ONE-TIME for all overlap checks\n",
    "- Simplicity: It should be computationally LIGHTWEIGHT and shold be performed with the CACHED data\n",
    "\n",
    "RMBR (Relative MBR):  \n",
    "\n",
    "Find the coordinates of the lower and higher corner of the child MBR (C)with respect to the lower corner of the parent MBR (P). (It cuts off the leading zeros) \n",
    "\n",
    "Parameters: \n",
    "- Parent MBR: $P= (P.xl, P.yl, P.xh, P.xl)$\n",
    "- Child MBR: $C= (C.xl, C.yl, C.xh, C.xl)$   \n",
    "\n",
    "$$RMBR_P(C) = (C.xl – P.xl, C.yl – P.yl, C.xh – P.xl, C.yh – P.yl)$$\n",
    "\n",
    "QRMBR (Qunatized Relative MBR):  \n",
    "\n",
    "Take the higher corner of the parent MBR (P) in contention as well while calculating the coordinates of the child MBR (C). (It cuts off the trailing zeros)\n",
    "\n",
    "One thing to notice: for calculating the lower corner of the child MBR it uses $\\phi$ and for calculating the higher corner it uses $\\Phi$. Hence, for extreme cases such as $r\\le a$ or $r\\ge b$ the difference between the 2 corner along any dimension will be at least $1$ (check the otherwise case as well: one uses ceiling, another uses floor) \n",
    "\n",
    "Parameters: \n",
    "- Parent MBR: $P= (P.xl, P.yl, P.xh, P.xl)$\n",
    "- Child MBR: $C= (C.xl, C.yl, C.xh, C.xl)$   \n",
    "- $\\phi_{a, b, l}: \\R \\to [0, l-1]$\n",
    "- $\\Phi_{a, b, l}: \\R \\to [1, l]$\n",
    "- Quantization Level: $l$\n",
    "\n",
    "\n",
    "$$\n",
    "QRMBR_P(C) = (\\phi_{P.xl, P.xh, l}(C.xl),  \n",
    "\\phi_{P.yl, P.yh, l}(C.yl),   \\\\\n",
    "\\Phi_{P.xl, P.xh, l}(C.xh),   \n",
    "\\Phi_{P.xl, P.xh, l}(C.yh))\n",
    "$$ \n",
    "\n",
    "$$\n",
    "\\phi_{a, b, l}(r) = \n",
    "\\begin{cases}\n",
    "      0 & r \\le a\\\\\n",
    "      l-1 & r \\ge b\\\\\n",
    "    \\lfloor\\frac{l(r-a)}{b-a}\\rfloor & \\text{otherwise}\n",
    "\\end{cases}\n",
    "$$  \n",
    "\n",
    "$$\\Phi_{a, b, l}(r) = \n",
    "\\begin{cases}\n",
    "      1 & r \\le a\\\\\n",
    "      l & r \\ge b\\\\\n",
    "    \\lceil\\frac{l(r-a)}{b-a}\\rceil & \\text{otherwise}\n",
    "\\end{cases}\n",
    "$$  "
   ]
  }
 ],
 "metadata": {
  "interpreter": {
   "hash": "31f2aee4e71d21fbe5cf8b01ff0e069b9275f58929596ceb00d14d90e3e16cd6"
  },
  "kernelspec": {
   "display_name": "Python 3.8.9 64-bit",
   "language": "python",
   "name": "python3"
  },
  "language_info": {
   "name": "python",
   "version": "3.8.9"
  },
  "orig_nbformat": 4
 },
 "nbformat": 4,
 "nbformat_minor": 2
}
